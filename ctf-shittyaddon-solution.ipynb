{
 "cells": [
  {
   "cell_type": "markdown",
   "metadata": {},
   "source": [
    "# Capture The Flag Shitty Add-On\n",
    "\n",
    "A (partial so far) solution by [Blake Burkhart](https://bburky.com)"
   ]
  },
  {
   "cell_type": "markdown",
   "metadata": {},
   "source": [
    "## Setup\n",
    "\n",
    "I tested this solution with a Raspberry Pi 2 directly connected to a Digispark clone (an ATtiny85 board). The Digispark was powered from the Pi's 3.3v pin. The [`\n",
    "ctf-firmware-1.0.0.hex`](https://github.com/urish/ctf-shittyaddon/releases/tag/1.0.0) file was flashed to the Digispark.\n",
    "\n",
    "The Pi must have I²C and SPI enabled in `/boot/config.txt`:\n",
    "\n",
    "    dtparam=i2c_arm=on,i2c_arm_baudrate=10000\n",
    "    dtparam=spi=on\n",
    "  \n",
    "I set the I²C baud rate to 10kHz to avoid errors. I think this may be due the fact that Raspberry Pis [don't support clock stretching](http://www.advamation.com/knowhow/raspberrypi/rpi-i2c-bug.html) but the [attiny85 and the TinyWire library may allow it](https://github.com/lucullusTheOnly/TinyWire/issues/1). In other words, the slow ATtiny85 may not send all the data fast enough with the Pi's default 100kHz baud rate, set it to something slow like 10kHz. 40kHz was working, but then it quit working some reason.\n",
    "\n",
    "Also if the AVR ISP is connected to the Pi's SPI pins, the Digispark can be flashed over directly from the Pi with `avrdude`'s linuxspi protocol:\n",
    "\n",
    "    avrdude -v -pattiny85 -clinuxspi -b14400 -P /dev/spidev0.0 -U flash:w:ctf-firmware-1.0.0.hex \n",
    "    avrdude -v -pattiny85 -clinuxspi -b14400 -P /dev/spidev0.0 -Uefuse:w:0xfe:m -Uhfuse:w:0xdf:m -Ulfuse:w:0xe2:m\n",
    "    \n",
    "Don't connect the Pi to the Digispark's I²C and SPI at the same time, they share pins and things will go wrong."
   ]
  },
  {
   "cell_type": "markdown",
   "metadata": {},
   "source": [
    "# shittyaddon I²C read/write\n",
    "\n",
    "On an I²C read two bytes are returned: the lower byte of the 16-bit target address, and the byte at the adddress.\n",
    "\n",
    "When writing, the first byte is used to set the target address. The upper byte is always set to zero. The remainder of the bytes are written in to memory sequentially at the target pointer.\n",
    "\n",
    "A write with zero data bytes may be performed before a read to set the target address of the read.\n",
    "\n",
    "Define a pair of `i2c_write()` and `i2c_read()` functions. These functions also track the full 16-byte target address in the `current_target` variable."
   ]
  },
  {
   "cell_type": "code",
   "execution_count": 1,
   "metadata": {},
   "outputs": [],
   "source": [
    "from smbus2 import SMBus, i2c_msg\n",
    "from io import BytesIO\n",
    "\n",
    "CTF_I2C_ADDR = 0x23\n",
    "\n",
    "current_target = None\n",
    "\n",
    "def i2c_write(target, data=[], address=CTF_I2C_ADDR):\n",
    "    global current_target\n",
    "    with SMBus(1) as bus:\n",
    "        msg = i2c_msg.write(address, [target, *data])\n",
    "        bus.i2c_rdwr(msg)\n",
    "    current_target = target + len(data)\n",
    "\n",
    "def i2c_read(target=None, count=1, address=CTF_I2C_ADDR):\n",
    "    global current_target\n",
    "    with BytesIO() as f:\n",
    "        with SMBus(1) as bus:\n",
    "            # If provided, change target by writing the target address, but no data bytes\n",
    "            if target is not None:\n",
    "                msg = i2c_msg.write(address, [target])\n",
    "                bus.i2c_rdwr(msg)\n",
    "                current_target = target\n",
    "\n",
    "            for i in range(count):\n",
    "                msg = i2c_msg.read(address, 2)\n",
    "                bus.i2c_rdwr(msg)\n",
    "                target, data = msg\n",
    "                f.write(bytes([data]))\n",
    "                \n",
    "                if current_target is not None:\n",
    "                    assert(target == current_target & 0xff)\n",
    "                current_target += 1\n",
    "    \n",
    "        f.seek(0)\n",
    "        return f.read()"
   ]
  },
  {
   "cell_type": "markdown",
   "metadata": {},
   "source": [
    "Some quick testing. Manually set the target to 0x00 and read one byte:"
   ]
  },
  {
   "cell_type": "code",
   "execution_count": 2,
   "metadata": {},
   "outputs": [
    {
     "data": {
      "text/plain": [
       "b'\"'"
      ]
     },
     "execution_count": 2,
     "metadata": {},
     "output_type": "execute_result"
    }
   ],
   "source": [
    "i2c_write(0x00)\n",
    "i2c_read()"
   ]
  },
  {
   "cell_type": "markdown",
   "metadata": {},
   "source": [
    "Read 4 bytes starting at 0x00:"
   ]
  },
  {
   "cell_type": "code",
   "execution_count": 3,
   "metadata": {},
   "outputs": [
    {
     "data": {
      "text/plain": [
       "b'\"\\x00\\x04@'"
      ]
     },
     "execution_count": 3,
     "metadata": {},
     "output_type": "execute_result"
    }
   ],
   "source": [
    "i2c_read(target=0x00, count=4)"
   ]
  },
  {
   "cell_type": "markdown",
   "metadata": {},
   "source": [
    "Write 6 bytes starting at 0x00:"
   ]
  },
  {
   "cell_type": "code",
   "execution_count": 4,
   "metadata": {},
   "outputs": [],
   "source": [
    "# i2c_write(0x00, b'FOOBAR')"
   ]
  },
  {
   "cell_type": "markdown",
   "metadata": {},
   "source": [
    "# Set LED via I2C"
   ]
  },
  {
   "cell_type": "code",
   "execution_count": 5,
   "metadata": {},
   "outputs": [],
   "source": [
    "# Values appear in datasheets, I found __SFR_OFFSET in avr-libc\n",
    "SFR_OFFSET = 0x20\n",
    "PORTB_ADDR = 0x18 + SFR_OFFSET\n",
    "DDRB_ADDR = 0x17 + SFR_OFFSET"
   ]
  },
  {
   "cell_type": "code",
   "execution_count": 6,
   "metadata": {},
   "outputs": [],
   "source": [
    "# Read the current value of DDRB\n",
    "ddrb, = i2c_read(DDRB_ADDR)\n",
    "\n",
    "# Configure LED as an output pin\n",
    "# Enable DDB1 for the LED on a digispark \n",
    "# I think this is the same pin on the shittyaddon? It uses \"pin 6 of the ATtiny (a.k.a PB1)\"\n",
    "ddrb |= 1 << 1\n",
    "\n",
    "# Set DDRB on the board\n",
    "i2c_write(DDRB_ADDR, [ddrb])\n",
    "\n",
    "# Set all output bits in PORTB to turn on the LED\n",
    "i2c_write(PORTB_ADDR, [0xff])"
   ]
  },
  {
   "cell_type": "markdown",
   "metadata": {},
   "source": [
    "# Dump flash and find the flag\n",
    "\n",
    "Dump the entire flash (plus some, it loops if you read too much?) and search for the flag with a regex on the bytes."
   ]
  },
  {
   "cell_type": "code",
   "execution_count": 7,
   "metadata": {},
   "outputs": [
    {
     "name": "stdout",
     "output_type": "stream",
     "text": [
      "$FLAG:you_found_it!!! :-)\n"
     ]
    }
   ],
   "source": [
    "import re\n",
    "\n",
    "dump = i2c_read(target=0x00, count=0x10000)\n",
    "\n",
    "match = re.search(b'\\$FLAG:.*?(?=\\x00)', dump)\n",
    "print(match.group(0).decode('ascii'))"
   ]
  },
  {
   "cell_type": "code",
   "execution_count": 8,
   "metadata": {},
   "outputs": [
    {
     "name": "stdout",
     "output_type": "stream",
     "text": [
      "0x8024\n"
     ]
    }
   ],
   "source": [
    "start = match.start()\n",
    "flag_start = start + len(b'$FLAG:')\n",
    "end = match.end()\n",
    "\n",
    "print(hex(flag_start))"
   ]
  },
  {
   "cell_type": "markdown",
   "metadata": {},
   "source": [
    "# TODO: Blinking rootkit\n",
    "\n",
    "# TODO: Replace the flag\n",
    "\n",
    "These will require finally figuring out whatever is acually going on in `loop()`."
   ]
  }
 ],
 "metadata": {
  "kernelspec": {
   "display_name": "Python 3",
   "language": "python",
   "name": "python3"
  },
  "language_info": {
   "codemirror_mode": {
    "name": "ipython",
    "version": 3
   },
   "file_extension": ".py",
   "mimetype": "text/x-python",
   "name": "python",
   "nbconvert_exporter": "python",
   "pygments_lexer": "ipython3",
   "version": "3.7.3"
  }
 },
 "nbformat": 4,
 "nbformat_minor": 4
}
